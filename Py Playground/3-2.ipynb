{
 "cells": [
  {
   "cell_type": "code",
   "execution_count": 46,
   "metadata": {},
   "outputs": [
    {
     "name": "stdout",
     "output_type": "stream",
     "text": [
      "2018-10-13 05:02:28,834 INFO sqlalchemy.engine.base.Engine SELECT CAST('test plain returns' AS VARCHAR(60)) AS anon_1\n",
      "2018-10-13 05:02:28,834 INFO sqlalchemy.engine.base.Engine ()\n",
      "2018-10-13 05:02:28,834 INFO sqlalchemy.engine.base.Engine SELECT CAST('test unicode returns' AS VARCHAR(60)) AS anon_1\n",
      "2018-10-13 05:02:28,835 INFO sqlalchemy.engine.base.Engine ()\n",
      "2018-10-13 05:02:28,836 INFO sqlalchemy.engine.base.Engine PRAGMA table_info(\"winner\")\n",
      "2018-10-13 05:02:28,837 INFO sqlalchemy.engine.base.Engine ()\n",
      "2018-10-13 05:02:28,840 INFO sqlalchemy.engine.base.Engine \n",
      "CREATE TABLE winner (\n",
      "\tid INTEGER NOT NULL, \n",
      "\tcategory VARCHAR, \n",
      "\tname VARCHAR, \n",
      "\tnationality VARCHAR, \n",
      "\tsex VARCHAR(6), \n",
      "\tyear INTEGER, \n",
      "\tPRIMARY KEY (id), \n",
      "\tCHECK (sex IN ('male', 'female'))\n",
      ")\n",
      "\n",
      "\n",
      "2018-10-13 05:02:28,840 INFO sqlalchemy.engine.base.Engine ()\n",
      "2018-10-13 05:02:28,854 INFO sqlalchemy.engine.base.Engine COMMIT\n"
     ]
    }
   ],
   "source": [
    "#setting up the DB\n",
    "from sqlalchemy import create_engine\n",
    "engine = create_engine('sqlite:///../data/nobel_prize.db', echo=True) # where is db\n",
    "\n",
    "\n",
    "from sqlalchemy.ext.declarative import declarative_base #This you have to declare your own schemas like NoSQL and MongoDB\n",
    "Base = declarative_base()\n",
    "from sqlalchemy import Column, Integer, String, Enum\n",
    "\n",
    "class winnerTable(Base): #a child class of Base object\n",
    "    __tablename__ = 'winner'\n",
    "    \n",
    "    #defining the columns\n",
    "    id = Column(Integer, primary_key=True) \n",
    "    category = Column(String)\n",
    "    name = Column(String)\n",
    "    nationality = Column(String)\n",
    "    sex = Column(Enum('male','female'))\n",
    "    year = Column(Integer)\n",
    "    \n",
    "    def __repr__(self):\n",
    "        return \"<winnerTable(name='%s',nationaliy ='%s', year='%d', sex='%s')\" %(self.name, self.category, self.year, self.sex)\n",
    "\n",
    "Base.metadata.create_all(engine)"
   ]
  },
  {
   "cell_type": "code",
   "execution_count": 54,
   "metadata": {},
   "outputs": [
    {
     "name": "stdout",
     "output_type": "stream",
     "text": [
      "2018-10-13 05:10:35,229 INFO sqlalchemy.engine.base.Engine BEGIN (implicit)\n",
      "2018-10-13 05:10:35,230 INFO sqlalchemy.engine.base.Engine INSERT INTO winner (category, name, nationality, sex, year) VALUES (?, ?, ?, ?, ?)\n",
      "2018-10-13 05:10:35,231 INFO sqlalchemy.engine.base.Engine ('A', 'A name', 'A nation', 'male', 1)\n",
      "2018-10-13 05:10:35,242 INFO sqlalchemy.engine.base.Engine INSERT INTO winner (category, name, nationality, sex, year) VALUES (?, ?, ?, ?, ?)\n",
      "2018-10-13 05:10:35,243 INFO sqlalchemy.engine.base.Engine ('B', 'B name', 'B nation', 'female', 2)\n",
      "2018-10-13 05:10:35,244 INFO sqlalchemy.engine.base.Engine INSERT INTO winner (category, name, nationality, sex, year) VALUES (?, ?, ?, ?, ?)\n",
      "2018-10-13 05:10:35,245 INFO sqlalchemy.engine.base.Engine ('C', 'C name', 'C nation', 'male', 3)\n",
      "2018-10-13 05:10:35,246 INFO sqlalchemy.engine.base.Engine COMMIT\n"
     ]
    }
   ],
   "source": [
    "#parsing json to a DB\n",
    "\n",
    "from sqlalchemy.orm import sessionmaker\n",
    "Session = sessionmaker(bind=engine)\n",
    "session = Session()\n",
    "\n",
    "import json\n",
    "with open('../data/nobel_winners.json') as jsonfile:\n",
    "    reader = json.load(jsonfile)\n",
    "    for row in reader:\n",
    "        session.add(winnerTable(**row)) #double stars important, unpacks data\n",
    "    session.commit()\n",
    "    \n",
    "    "
   ]
  },
  {
   "cell_type": "code",
   "execution_count": 58,
   "metadata": {},
   "outputs": [
    {
     "name": "stdout",
     "output_type": "stream",
     "text": [
      "2018-10-13 05:12:14,182 INFO sqlalchemy.engine.base.Engine SELECT count(*) AS count_1 \n",
      "FROM (SELECT winner.id AS winner_id, winner.category AS winner_category, winner.name AS winner_name, winner.nationality AS winner_nationality, winner.sex AS winner_sex, winner.year AS winner_year \n",
      "FROM winner) AS anon_1\n",
      "2018-10-13 05:12:14,183 INFO sqlalchemy.engine.base.Engine ()\n",
      "2018-10-13 05:12:14,185 INFO sqlalchemy.engine.base.Engine SELECT winner.id AS winner_id, winner.category AS winner_category, winner.name AS winner_name, winner.nationality AS winner_nationality, winner.sex AS winner_sex, winner.year AS winner_year \n",
      "FROM winner \n",
      "WHERE winner.nationality = ?\n",
      "2018-10-13 05:12:14,186 INFO sqlalchemy.engine.base.Engine ('A nation',)\n"
     ]
    },
    {
     "data": {
      "text/plain": [
       "[<winnerTable(name='A name',nationaliy ='A', year='1', sex='male'),\n",
       " <winnerTable(name='A name',nationaliy ='A', year='1', sex='male'),\n",
       " <winnerTable(name='A name',nationaliy ='A', year='1', sex='male')]"
      ]
     },
     "execution_count": 58,
     "metadata": {},
     "output_type": "execute_result"
    }
   ],
   "source": [
    "session.query(winnerTable).count()\n",
    "\n",
    "result = session.query(winnerTable).filter_by(nationality='A nation')\n",
    "list(result)"
   ]
  }
 ],
 "metadata": {
  "kernelspec": {
   "display_name": "Python 3",
   "language": "python",
   "name": "python3"
  },
  "language_info": {
   "codemirror_mode": {
    "name": "ipython",
    "version": 3
   },
   "file_extension": ".py",
   "mimetype": "text/x-python",
   "name": "python",
   "nbconvert_exporter": "python",
   "pygments_lexer": "ipython3",
   "version": "3.5.6"
  }
 },
 "nbformat": 4,
 "nbformat_minor": 2
}
