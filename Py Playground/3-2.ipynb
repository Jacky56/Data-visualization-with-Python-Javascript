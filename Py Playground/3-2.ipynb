{
 "cells": [
  {
   "cell_type": "code",
   "execution_count": 3,
   "metadata": {},
   "outputs": [
    {
     "name": "stdout",
     "output_type": "stream",
     "text": [
      "2018-10-30 16:29:57,378 INFO sqlalchemy.engine.base.Engine SELECT CAST('test plain returns' AS VARCHAR(60)) AS anon_1\n",
      "2018-10-30 16:29:57,379 INFO sqlalchemy.engine.base.Engine ()\n",
      "2018-10-30 16:29:57,380 INFO sqlalchemy.engine.base.Engine SELECT CAST('test unicode returns' AS VARCHAR(60)) AS anon_1\n",
      "2018-10-30 16:29:57,381 INFO sqlalchemy.engine.base.Engine ()\n",
      "2018-10-30 16:29:57,381 INFO sqlalchemy.engine.base.Engine PRAGMA table_info(\"winner\")\n",
      "2018-10-30 16:29:57,382 INFO sqlalchemy.engine.base.Engine ()\n",
      "2018-10-30 16:29:57,383 INFO sqlalchemy.engine.base.Engine \n",
      "CREATE TABLE winner (\n",
      "\tid INTEGER NOT NULL, \n",
      "\tcategory VARCHAR, \n",
      "\tname VARCHAR, \n",
      "\tnationality VARCHAR, \n",
      "\tsex VARCHAR(6), \n",
      "\tyear INTEGER, \n",
      "\tPRIMARY KEY (id), \n",
      "\tCHECK (sex IN ('male', 'female'))\n",
      ")\n",
      "\n",
      "\n",
      "2018-10-30 16:29:57,384 INFO sqlalchemy.engine.base.Engine ()\n",
      "2018-10-30 16:29:57,430 INFO sqlalchemy.engine.base.Engine COMMIT\n"
     ]
    }
   ],
   "source": [
    "#setting up the DB\n",
    "from sqlalchemy import create_engine\n",
    "engine = create_engine('sqlite:///../data/nobel_prize.db', echo=True) # where is db\n",
    "\n",
    "\n",
    "from sqlalchemy.ext.declarative import declarative_base #This you have to declare your own schemas like NoSQL and MongoDB\n",
    "Base = declarative_base()\n",
    "from sqlalchemy import Column, Integer, String, Enum\n",
    "\n",
    "class winnerTable(Base): #a child class of Base object\n",
    "    __tablename__ = 'winner'\n",
    "    \n",
    "    #defining the columns\n",
    "    id = Column(Integer, primary_key=True) \n",
    "    category = Column(String)\n",
    "    name = Column(String)\n",
    "    nationality = Column(String)\n",
    "    sex = Column(Enum('male','female'))\n",
    "    year = Column(Integer)\n",
    "    \n",
    "    def __repr__(self):\n",
    "        return \"<winnerTable(name='%s',nationality ='%s', year='%d', sex='%s')\" %(self.name, self.category, self.year, self.sex)\n",
    "\n",
    "Base.metadata.create_all(engine)"
   ]
  },
  {
   "cell_type": "code",
   "execution_count": 5,
   "metadata": {},
   "outputs": [
    {
     "name": "stdout",
     "output_type": "stream",
     "text": [
      "2018-10-30 16:30:22,925 INFO sqlalchemy.engine.base.Engine BEGIN (implicit)\n",
      "2018-10-30 16:30:22,926 INFO sqlalchemy.engine.base.Engine INSERT INTO winner (category, name, nationality, sex, year) VALUES (?, ?, ?, ?, ?)\n",
      "2018-10-30 16:30:22,927 INFO sqlalchemy.engine.base.Engine ('A', 'A name', 'A nation', 'male', 1)\n",
      "2018-10-30 16:30:22,940 INFO sqlalchemy.engine.base.Engine INSERT INTO winner (category, name, nationality, sex, year) VALUES (?, ?, ?, ?, ?)\n",
      "2018-10-30 16:30:22,941 INFO sqlalchemy.engine.base.Engine ('B', 'B name', 'B nation', 'female', 2)\n",
      "2018-10-30 16:30:22,949 INFO sqlalchemy.engine.base.Engine INSERT INTO winner (category, name, nationality, sex, year) VALUES (?, ?, ?, ?, ?)\n",
      "2018-10-30 16:30:22,951 INFO sqlalchemy.engine.base.Engine ('C', 'C name', 'C nation', 'male', 3)\n",
      "2018-10-30 16:30:22,952 INFO sqlalchemy.engine.base.Engine COMMIT\n"
     ]
    }
   ],
   "source": [
    "#parsing json to a DB\n",
    "\n",
    "#*makes the session\n",
    "from sqlalchemy.orm import sessionmaker\n",
    "Session = sessionmaker(bind=engine)\n",
    "session = Session()\n"
   ]
  },
  {
   "cell_type": "code",
   "execution_count": null,
   "metadata": {},
   "outputs": [],
   "source": [
    "import json\n",
    "with open('../data/nobel_winners.json') as jsonfile:\n",
    "    reader = json.load(jsonfile)\n",
    "    for row in reader:\n",
    "        session.add(winnerTable(**row)) #double stars important, unpacks data\n",
    "    session.commit()"
   ]
  },
  {
   "cell_type": "code",
   "execution_count": 6,
   "metadata": {},
   "outputs": [
    {
     "name": "stdout",
     "output_type": "stream",
     "text": [
      "2018-10-30 16:30:43,273 INFO sqlalchemy.engine.base.Engine BEGIN (implicit)\n",
      "2018-10-30 16:30:43,275 INFO sqlalchemy.engine.base.Engine SELECT count(*) AS count_1 \n",
      "FROM (SELECT winner.id AS winner_id, winner.category AS winner_category, winner.name AS winner_name, winner.nationality AS winner_nationality, winner.sex AS winner_sex, winner.year AS winner_year \n",
      "FROM winner) AS anon_1\n",
      "2018-10-30 16:30:43,276 INFO sqlalchemy.engine.base.Engine ()\n",
      "2018-10-30 16:30:43,279 INFO sqlalchemy.engine.base.Engine SELECT winner.id AS winner_id, winner.category AS winner_category, winner.name AS winner_name, winner.nationality AS winner_nationality, winner.sex AS winner_sex, winner.year AS winner_year \n",
      "FROM winner\n",
      "2018-10-30 16:30:43,280 INFO sqlalchemy.engine.base.Engine ()\n"
     ]
    },
    {
     "data": {
      "text/plain": [
       "[<winnerTable(name='A name',nationality ='A', year='1', sex='male'),\n",
       " <winnerTable(name='B name',nationality ='B', year='2', sex='female'),\n",
       " <winnerTable(name='C name',nationality ='C', year='3', sex='male'),\n",
       " <winnerTable(name='A name',nationality ='A', year='1', sex='male'),\n",
       " <winnerTable(name='B name',nationality ='B', year='2', sex='female'),\n",
       " <winnerTable(name='C name',nationality ='C', year='3', sex='male')]"
      ]
     },
     "execution_count": 6,
     "metadata": {},
     "output_type": "execute_result"
    }
   ],
   "source": [
    "session.query(winnerTable).count()\n",
    "\n",
    "result = session.query(winnerTable)\n",
    "list(result)"
   ]
  },
  {
   "cell_type": "code",
   "execution_count": 48,
   "metadata": {},
   "outputs": [
    {
     "name": "stdout",
     "output_type": "stream",
     "text": [
      "2018-10-30 16:49:07,596 INFO sqlalchemy.engine.base.Engine BEGIN (implicit)\n",
      "2018-10-30 16:49:07,598 INFO sqlalchemy.engine.base.Engine SELECT winner.id AS winner_id, winner.category AS winner_category, winner.name AS winner_name, winner.nationality AS winner_nationality, winner.sex AS winner_sex, winner.year AS winner_year \n",
      "FROM winner \n",
      "WHERE winner.id = ?\n",
      "2018-10-30 16:49:07,598 INFO sqlalchemy.engine.base.Engine (1,)\n"
     ]
    }
   ],
   "source": [
    "candidate_A = session.query(winnerTable).get(1) #you cnanot get index 0, starts from 1\n",
    "# candidate_A.nationality= 'bfdgfdghsdbt434bh'\n",
    "# candidate_A.name= 'A name changed'"
   ]
  },
  {
   "cell_type": "code",
   "execution_count": 12,
   "metadata": {},
   "outputs": [
    {
     "name": "stdout",
     "output_type": "stream",
     "text": [
      "2018-10-30 16:31:26,621 INFO sqlalchemy.engine.base.Engine BEGIN (implicit)\n",
      "2018-10-30 16:31:26,622 INFO sqlalchemy.engine.base.Engine SELECT winner.id AS winner_id, winner.category AS winner_category, winner.name AS winner_name, winner.nationality AS winner_nationality, winner.sex AS winner_sex, winner.year AS winner_year \n",
      "FROM winner \n",
      "WHERE winner.id = ?\n",
      "2018-10-30 16:31:26,623 INFO sqlalchemy.engine.base.Engine (1,)\n"
     ]
    },
    {
     "data": {
      "text/plain": [
       "'A name changed'"
      ]
     },
     "execution_count": 12,
     "metadata": {},
     "output_type": "execute_result"
    }
   ],
   "source": [
    "session.query(winnerTable).get(1).name"
   ]
  },
  {
   "cell_type": "code",
   "execution_count": 30,
   "metadata": {},
   "outputs": [],
   "source": [
    "session.add(winnerTable(name='D name', nationality= 'D', year ='4',sex ='male')) #already unpacked, no **\n"
   ]
  },
  {
   "cell_type": "code",
   "execution_count": 25,
   "metadata": {},
   "outputs": [
    {
     "name": "stdout",
     "output_type": "stream",
     "text": [
      "2018-10-30 16:37:00,684 INFO sqlalchemy.engine.base.Engine BEGIN (implicit)\n",
      "2018-10-30 16:37:00,685 INFO sqlalchemy.engine.base.Engine SELECT winner.id AS winner_id, winner.category AS winner_category, winner.name AS winner_name, winner.nationality AS winner_nationality, winner.sex AS winner_sex, winner.year AS winner_year \n",
      "FROM winner\n",
      "2018-10-30 16:37:00,686 INFO sqlalchemy.engine.base.Engine ()\n"
     ]
    },
    {
     "data": {
      "text/plain": [
       "[<winnerTable(name='A name changed',nationality ='A', year='1', sex='male'),\n",
       " <winnerTable(name='B name',nationality ='B', year='2', sex='female'),\n",
       " <winnerTable(name='C name',nationality ='C', year='3', sex='male'),\n",
       " <winnerTable(name='A name',nationality ='A', year='1', sex='male'),\n",
       " <winnerTable(name='B name',nationality ='B', year='2', sex='female'),\n",
       " <winnerTable(name='C name',nationality ='C', year='3', sex='male'),\n",
       " <winnerTable(name='D name',nationality ='None', year='4', sex='male'),\n",
       " <winnerTable(name='D name',nationality ='None', year='4', sex='male')]"
      ]
     },
     "execution_count": 25,
     "metadata": {},
     "output_type": "execute_result"
    }
   ],
   "source": [
    "list(session.query(winnerTable))"
   ]
  },
  {
   "cell_type": "code",
   "execution_count": 46,
   "metadata": {},
   "outputs": [
    {
     "name": "stdout",
     "output_type": "stream",
     "text": [
      "2018-10-30 16:48:49,989 INFO sqlalchemy.engine.base.Engine ROLLBACK\n"
     ]
    }
   ],
   "source": [
    "session.rollback()"
   ]
  },
  {
   "cell_type": "code",
   "execution_count": 26,
   "metadata": {},
   "outputs": [
    {
     "name": "stdout",
     "output_type": "stream",
     "text": [
      "2018-10-30 16:43:19,655 INFO sqlalchemy.engine.base.Engine ROLLBACK\n"
     ]
    }
   ],
   "source": [
    "session.close()"
   ]
  },
  {
   "cell_type": "code",
   "execution_count": 51,
   "metadata": {},
   "outputs": [
    {
     "data": {
      "text/plain": [
       "IdentitySet([])"
      ]
     },
     "execution_count": 51,
     "metadata": {},
     "output_type": "execute_result"
    }
   ],
   "source": [
    "session.dirty"
   ]
  },
  {
   "cell_type": "code",
   "execution_count": null,
   "metadata": {},
   "outputs": [],
   "source": []
  }
 ],
 "metadata": {
  "kernelspec": {
   "display_name": "Python 3",
   "language": "python",
   "name": "python3"
  },
  "language_info": {
   "codemirror_mode": {
    "name": "ipython",
    "version": 3
   },
   "file_extension": ".py",
   "mimetype": "text/x-python",
   "name": "python",
   "nbconvert_exporter": "python",
   "pygments_lexer": "ipython3",
   "version": "3.5.6"
  }
 },
 "nbformat": 4,
 "nbformat_minor": 2
}
